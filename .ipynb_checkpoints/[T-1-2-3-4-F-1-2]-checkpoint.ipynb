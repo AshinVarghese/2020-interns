{
 "cells": [
  {
   "cell_type": "code",
   "execution_count": 1,
   "metadata": {},
   "outputs": [],
   "source": [
    "# Name - Ashin Varghese\n",
    "# college - MIT WPU\n",
    "# email - ashin.pta@gmail.com\n",
    "# phone - 8488811778"
   ]
  },
  {
   "cell_type": "code",
   "execution_count": null,
   "metadata": {},
   "outputs": [],
   "source": [
    "import json\n",
    "import pandas as pd\n",
    "import requests\n",
    "import matplotlib.pyplot as plt"
   ]
  },
  {
   "cell_type": "code",
   "execution_count": 2,
   "metadata": {},
   "outputs": [
    {
     "data": {
      "text/plain": [
       "'{\"rates\":{\"CAD\":1.551,\"HKD\":8.8617,\"ISK\":160.2,\"PHP\":56.511,\"DKK\":7.4453,\"HUF\":353.72,\"CZK\":26.682,\"AUD\":1.636,\"RON\":4.8422,\"SEK\":10.333,\"IDR\":16793.45,\"INR\":85.67,\"BRL\":6.0839,\"RUB\":81.8409,\"HRK\":7.538,\"JPY\":122.53,\"THB\":36.238,\"CHF\":1.0753,\"SGD\":1.5887,\"PLN\":4.4827,\"BGN\":1.9558,\"TRY\":7.8413,\"CNY\":7.9975,\"NOK\":10.5995,\"NZD\":1.7463,\"ZAR\":19.0496,\"USD\":1.1428,\"MXN\":25.6132,\"ILS\":3.9253,\"GBP\":0.91078,\"KRW\":1376.55,\"MYR\":4.8723},\"base\":\"EUR\",\"date\":\"2020-07-17\"}'"
      ]
     },
     "execution_count": 2,
     "metadata": {},
     "output_type": "execute_result"
    }
   ],
   "source": [
    "r=requests.get('https://api.exchangeratesapi.io/latest')\n",
    "r.text"
   ]
  },
  {
   "cell_type": "code",
   "execution_count": 3,
   "metadata": {},
   "outputs": [
    {
     "data": {
      "text/plain": [
       "{'rates': {'CAD': 1.551,\n",
       "  'HKD': 8.8617,\n",
       "  'ISK': 160.2,\n",
       "  'PHP': 56.511,\n",
       "  'DKK': 7.4453,\n",
       "  'HUF': 353.72,\n",
       "  'CZK': 26.682,\n",
       "  'AUD': 1.636,\n",
       "  'RON': 4.8422,\n",
       "  'SEK': 10.333,\n",
       "  'IDR': 16793.45,\n",
       "  'INR': 85.67,\n",
       "  'BRL': 6.0839,\n",
       "  'RUB': 81.8409,\n",
       "  'HRK': 7.538,\n",
       "  'JPY': 122.53,\n",
       "  'THB': 36.238,\n",
       "  'CHF': 1.0753,\n",
       "  'SGD': 1.5887,\n",
       "  'PLN': 4.4827,\n",
       "  'BGN': 1.9558,\n",
       "  'TRY': 7.8413,\n",
       "  'CNY': 7.9975,\n",
       "  'NOK': 10.5995,\n",
       "  'NZD': 1.7463,\n",
       "  'ZAR': 19.0496,\n",
       "  'USD': 1.1428,\n",
       "  'MXN': 25.6132,\n",
       "  'ILS': 3.9253,\n",
       "  'GBP': 0.91078,\n",
       "  'KRW': 1376.55,\n",
       "  'MYR': 4.8723},\n",
       " 'base': 'EUR',\n",
       " 'date': '2020-07-17'}"
      ]
     },
     "execution_count": 3,
     "metadata": {},
     "output_type": "execute_result"
    }
   ],
   "source": [
    "j=json.loads(r.text)\n",
    "j"
   ]
  },
  {
   "cell_type": "code",
   "execution_count": 4,
   "metadata": {},
   "outputs": [
    {
     "data": {
      "text/plain": [
       "{'CAD': 1.551,\n",
       " 'HKD': 8.8617,\n",
       " 'ISK': 160.2,\n",
       " 'PHP': 56.511,\n",
       " 'DKK': 7.4453,\n",
       " 'HUF': 353.72,\n",
       " 'CZK': 26.682,\n",
       " 'AUD': 1.636,\n",
       " 'RON': 4.8422,\n",
       " 'SEK': 10.333,\n",
       " 'IDR': 16793.45,\n",
       " 'INR': 85.67,\n",
       " 'BRL': 6.0839,\n",
       " 'RUB': 81.8409,\n",
       " 'HRK': 7.538,\n",
       " 'JPY': 122.53,\n",
       " 'THB': 36.238,\n",
       " 'CHF': 1.0753,\n",
       " 'SGD': 1.5887,\n",
       " 'PLN': 4.4827,\n",
       " 'BGN': 1.9558,\n",
       " 'TRY': 7.8413,\n",
       " 'CNY': 7.9975,\n",
       " 'NOK': 10.5995,\n",
       " 'NZD': 1.7463,\n",
       " 'ZAR': 19.0496,\n",
       " 'USD': 1.1428,\n",
       " 'MXN': 25.6132,\n",
       " 'ILS': 3.9253,\n",
       " 'GBP': 0.91078,\n",
       " 'KRW': 1376.55,\n",
       " 'MYR': 4.8723}"
      ]
     },
     "execution_count": 4,
     "metadata": {},
     "output_type": "execute_result"
    }
   ],
   "source": [
    "j['rates']"
   ]
  },
  {
   "cell_type": "code",
   "execution_count": 5,
   "metadata": {},
   "outputs": [
    {
     "data": {
      "text/plain": [
       "85.67"
      ]
     },
     "execution_count": 5,
     "metadata": {},
     "output_type": "execute_result"
    }
   ],
   "source": [
    "j['rates']['INR']"
   ]
  },
  {
   "cell_type": "code",
   "execution_count": 6,
   "metadata": {},
   "outputs": [
    {
     "data": {
      "text/plain": [
       "CAD        1.55100\n",
       "HKD        8.86170\n",
       "ISK      160.20000\n",
       "PHP       56.51100\n",
       "DKK        7.44530\n",
       "HUF      353.72000\n",
       "CZK       26.68200\n",
       "AUD        1.63600\n",
       "RON        4.84220\n",
       "SEK       10.33300\n",
       "IDR    16793.45000\n",
       "INR       85.67000\n",
       "BRL        6.08390\n",
       "RUB       81.84090\n",
       "HRK        7.53800\n",
       "JPY      122.53000\n",
       "THB       36.23800\n",
       "CHF        1.07530\n",
       "SGD        1.58870\n",
       "PLN        4.48270\n",
       "BGN        1.95580\n",
       "TRY        7.84130\n",
       "CNY        7.99750\n",
       "NOK       10.59950\n",
       "NZD        1.74630\n",
       "ZAR       19.04960\n",
       "USD        1.14280\n",
       "MXN       25.61320\n",
       "ILS        3.92530\n",
       "GBP        0.91078\n",
       "KRW     1376.55000\n",
       "MYR        4.87230\n",
       "dtype: float64"
      ]
     },
     "execution_count": 6,
     "metadata": {},
     "output_type": "execute_result"
    }
   ],
   "source": [
    "fx=pd.Series(j['rates'])\n",
    "fx"
   ]
  },
  {
   "cell_type": "code",
   "execution_count": 7,
   "metadata": {},
   "outputs": [
    {
     "data": {
      "text/plain": [
       "INR    85.67000\n",
       "GBP     0.91078\n",
       "dtype: float64"
      ]
     },
     "execution_count": 7,
     "metadata": {},
     "output_type": "execute_result"
    }
   ],
   "source": [
    "#latest rates of INR and GBP against EUR\n",
    "fx[['INR','GBP']]"
   ]
  },
  {
   "cell_type": "code",
   "execution_count": 8,
   "metadata": {},
   "outputs": [],
   "source": [
    "def get_api_result(url):\n",
    "    r=requests.get(url)\n",
    "    return json.loads(r.text)"
   ]
  },
  {
   "cell_type": "code",
   "execution_count": 9,
   "metadata": {},
   "outputs": [
    {
     "data": {
      "text/plain": [
       "{'CAD': 1.551,\n",
       " 'HKD': 8.8617,\n",
       " 'ISK': 160.2,\n",
       " 'PHP': 56.511,\n",
       " 'DKK': 7.4453,\n",
       " 'HUF': 353.72,\n",
       " 'CZK': 26.682,\n",
       " 'AUD': 1.636,\n",
       " 'RON': 4.8422,\n",
       " 'SEK': 10.333,\n",
       " 'IDR': 16793.45,\n",
       " 'INR': 85.67,\n",
       " 'BRL': 6.0839,\n",
       " 'RUB': 81.8409,\n",
       " 'HRK': 7.538,\n",
       " 'JPY': 122.53,\n",
       " 'THB': 36.238,\n",
       " 'CHF': 1.0753,\n",
       " 'SGD': 1.5887,\n",
       " 'PLN': 4.4827,\n",
       " 'BGN': 1.9558,\n",
       " 'TRY': 7.8413,\n",
       " 'CNY': 7.9975,\n",
       " 'NOK': 10.5995,\n",
       " 'NZD': 1.7463,\n",
       " 'ZAR': 19.0496,\n",
       " 'USD': 1.1428,\n",
       " 'MXN': 25.6132,\n",
       " 'ILS': 3.9253,\n",
       " 'GBP': 0.91078,\n",
       " 'KRW': 1376.55,\n",
       " 'MYR': 4.8723}"
      ]
     },
     "execution_count": 9,
     "metadata": {},
     "output_type": "execute_result"
    }
   ],
   "source": [
    "j = get_api_result('https://api.exchangeratesapi.io/latest?base=EUR')\n",
    "j['rates']"
   ]
  },
  {
   "cell_type": "code",
   "execution_count": 10,
   "metadata": {},
   "outputs": [
    {
     "data": {
      "text/plain": [
       "{'2019-01-09': {'INR': 80.6365},\n",
       " '2019-01-18': {'INR': 81.0875},\n",
       " '2019-01-23': {'INR': 81.0535},\n",
       " '2019-01-30': {'INR': 81.351},\n",
       " '2019-01-16': {'INR': 81.0055},\n",
       " '2019-01-24': {'INR': 80.656},\n",
       " '2019-01-10': {'INR': 81.2005},\n",
       " '2019-01-29': {'INR': 81.306},\n",
       " '2019-01-03': {'INR': 79.608},\n",
       " '2019-01-21': {'INR': 80.9335},\n",
       " '2019-01-28': {'INR': 81.232},\n",
       " '2019-01-31': {'INR': 81.686},\n",
       " '2019-01-15': {'INR': 81.231},\n",
       " '2019-01-11': {'INR': 81.3475},\n",
       " '2019-01-02': {'INR': 79.9855},\n",
       " '2019-01-14': {'INR': 81.2195},\n",
       " '2019-01-17': {'INR': 80.9765},\n",
       " '2019-01-22': {'INR': 81.046},\n",
       " '2019-01-04': {'INR': 79.4315},\n",
       " '2019-01-07': {'INR': 79.6895},\n",
       " '2019-01-25': {'INR': 80.634},\n",
       " '2019-01-08': {'INR': 80.245}}"
      ]
     },
     "execution_count": 10,
     "metadata": {},
     "output_type": "execute_result"
    }
   ],
   "source": [
    "# [T-1] Plot the graph of INR exchange rate against EUR from 1 Jan 2019 to 31 Jan 2019\n",
    "url='https://api.exchangeratesapi.io/history?start_at=2019-01-01&end_at=2019-01-31&symbols=INR&base=EUR'\n",
    "j=get_api_result(url)\n",
    "j['rates']"
   ]
  },
  {
   "cell_type": "code",
   "execution_count": 11,
   "metadata": {},
   "outputs": [
    {
     "data": {
      "text/html": [
       "<div>\n",
       "<style scoped>\n",
       "    .dataframe tbody tr th:only-of-type {\n",
       "        vertical-align: middle;\n",
       "    }\n",
       "\n",
       "    .dataframe tbody tr th {\n",
       "        vertical-align: top;\n",
       "    }\n",
       "\n",
       "    .dataframe thead th {\n",
       "        text-align: right;\n",
       "    }\n",
       "</style>\n",
       "<table border=\"1\" class=\"dataframe\">\n",
       "  <thead>\n",
       "    <tr style=\"text-align: right;\">\n",
       "      <th></th>\n",
       "      <th>2019-01-09</th>\n",
       "      <th>2019-01-18</th>\n",
       "      <th>2019-01-23</th>\n",
       "      <th>2019-01-30</th>\n",
       "      <th>2019-01-16</th>\n",
       "      <th>2019-01-24</th>\n",
       "      <th>2019-01-10</th>\n",
       "      <th>2019-01-29</th>\n",
       "      <th>2019-01-03</th>\n",
       "      <th>2019-01-21</th>\n",
       "      <th>...</th>\n",
       "      <th>2019-01-15</th>\n",
       "      <th>2019-01-11</th>\n",
       "      <th>2019-01-02</th>\n",
       "      <th>2019-01-14</th>\n",
       "      <th>2019-01-17</th>\n",
       "      <th>2019-01-22</th>\n",
       "      <th>2019-01-04</th>\n",
       "      <th>2019-01-07</th>\n",
       "      <th>2019-01-25</th>\n",
       "      <th>2019-01-08</th>\n",
       "    </tr>\n",
       "  </thead>\n",
       "  <tbody>\n",
       "    <tr>\n",
       "      <th>INR</th>\n",
       "      <td>80.6365</td>\n",
       "      <td>81.0875</td>\n",
       "      <td>81.0535</td>\n",
       "      <td>81.351</td>\n",
       "      <td>81.0055</td>\n",
       "      <td>80.656</td>\n",
       "      <td>81.2005</td>\n",
       "      <td>81.306</td>\n",
       "      <td>79.608</td>\n",
       "      <td>80.9335</td>\n",
       "      <td>...</td>\n",
       "      <td>81.231</td>\n",
       "      <td>81.3475</td>\n",
       "      <td>79.9855</td>\n",
       "      <td>81.2195</td>\n",
       "      <td>80.9765</td>\n",
       "      <td>81.046</td>\n",
       "      <td>79.4315</td>\n",
       "      <td>79.6895</td>\n",
       "      <td>80.634</td>\n",
       "      <td>80.245</td>\n",
       "    </tr>\n",
       "  </tbody>\n",
       "</table>\n",
       "<p>1 rows × 22 columns</p>\n",
       "</div>"
      ],
      "text/plain": [
       "     2019-01-09  2019-01-18  2019-01-23  2019-01-30  2019-01-16  2019-01-24  \\\n",
       "INR     80.6365     81.0875     81.0535      81.351     81.0055      80.656   \n",
       "\n",
       "     2019-01-10  2019-01-29  2019-01-03  2019-01-21  ...  2019-01-15  \\\n",
       "INR     81.2005      81.306      79.608     80.9335  ...      81.231   \n",
       "\n",
       "     2019-01-11  2019-01-02  2019-01-14  2019-01-17  2019-01-22  2019-01-04  \\\n",
       "INR     81.3475     79.9855     81.2195     80.9765      81.046     79.4315   \n",
       "\n",
       "     2019-01-07  2019-01-25  2019-01-08  \n",
       "INR     79.6895      80.634      80.245  \n",
       "\n",
       "[1 rows x 22 columns]"
      ]
     },
     "execution_count": 11,
     "metadata": {},
     "output_type": "execute_result"
    }
   ],
   "source": [
    "pd.DataFrame(j['rates'])"
   ]
  },
  {
   "cell_type": "code",
   "execution_count": 12,
   "metadata": {},
   "outputs": [],
   "source": [
    "df=pd.DataFrame(j['rates']).T"
   ]
  },
  {
   "cell_type": "code",
   "execution_count": 13,
   "metadata": {},
   "outputs": [
    {
     "data": {
      "text/html": [
       "<div>\n",
       "<style scoped>\n",
       "    .dataframe tbody tr th:only-of-type {\n",
       "        vertical-align: middle;\n",
       "    }\n",
       "\n",
       "    .dataframe tbody tr th {\n",
       "        vertical-align: top;\n",
       "    }\n",
       "\n",
       "    .dataframe thead th {\n",
       "        text-align: right;\n",
       "    }\n",
       "</style>\n",
       "<table border=\"1\" class=\"dataframe\">\n",
       "  <thead>\n",
       "    <tr style=\"text-align: right;\">\n",
       "      <th></th>\n",
       "      <th>INR</th>\n",
       "    </tr>\n",
       "  </thead>\n",
       "  <tbody>\n",
       "    <tr>\n",
       "      <th>2019-01-02</th>\n",
       "      <td>79.9855</td>\n",
       "    </tr>\n",
       "    <tr>\n",
       "      <th>2019-01-03</th>\n",
       "      <td>79.6080</td>\n",
       "    </tr>\n",
       "    <tr>\n",
       "      <th>2019-01-04</th>\n",
       "      <td>79.4315</td>\n",
       "    </tr>\n",
       "    <tr>\n",
       "      <th>2019-01-07</th>\n",
       "      <td>79.6895</td>\n",
       "    </tr>\n",
       "    <tr>\n",
       "      <th>2019-01-08</th>\n",
       "      <td>80.2450</td>\n",
       "    </tr>\n",
       "    <tr>\n",
       "      <th>2019-01-09</th>\n",
       "      <td>80.6365</td>\n",
       "    </tr>\n",
       "    <tr>\n",
       "      <th>2019-01-10</th>\n",
       "      <td>81.2005</td>\n",
       "    </tr>\n",
       "    <tr>\n",
       "      <th>2019-01-11</th>\n",
       "      <td>81.3475</td>\n",
       "    </tr>\n",
       "    <tr>\n",
       "      <th>2019-01-14</th>\n",
       "      <td>81.2195</td>\n",
       "    </tr>\n",
       "    <tr>\n",
       "      <th>2019-01-15</th>\n",
       "      <td>81.2310</td>\n",
       "    </tr>\n",
       "    <tr>\n",
       "      <th>2019-01-16</th>\n",
       "      <td>81.0055</td>\n",
       "    </tr>\n",
       "    <tr>\n",
       "      <th>2019-01-17</th>\n",
       "      <td>80.9765</td>\n",
       "    </tr>\n",
       "    <tr>\n",
       "      <th>2019-01-18</th>\n",
       "      <td>81.0875</td>\n",
       "    </tr>\n",
       "    <tr>\n",
       "      <th>2019-01-21</th>\n",
       "      <td>80.9335</td>\n",
       "    </tr>\n",
       "    <tr>\n",
       "      <th>2019-01-22</th>\n",
       "      <td>81.0460</td>\n",
       "    </tr>\n",
       "    <tr>\n",
       "      <th>2019-01-23</th>\n",
       "      <td>81.0535</td>\n",
       "    </tr>\n",
       "    <tr>\n",
       "      <th>2019-01-24</th>\n",
       "      <td>80.6560</td>\n",
       "    </tr>\n",
       "    <tr>\n",
       "      <th>2019-01-25</th>\n",
       "      <td>80.6340</td>\n",
       "    </tr>\n",
       "    <tr>\n",
       "      <th>2019-01-28</th>\n",
       "      <td>81.2320</td>\n",
       "    </tr>\n",
       "    <tr>\n",
       "      <th>2019-01-29</th>\n",
       "      <td>81.3060</td>\n",
       "    </tr>\n",
       "    <tr>\n",
       "      <th>2019-01-30</th>\n",
       "      <td>81.3510</td>\n",
       "    </tr>\n",
       "    <tr>\n",
       "      <th>2019-01-31</th>\n",
       "      <td>81.6860</td>\n",
       "    </tr>\n",
       "  </tbody>\n",
       "</table>\n",
       "</div>"
      ],
      "text/plain": [
       "                INR\n",
       "2019-01-02  79.9855\n",
       "2019-01-03  79.6080\n",
       "2019-01-04  79.4315\n",
       "2019-01-07  79.6895\n",
       "2019-01-08  80.2450\n",
       "2019-01-09  80.6365\n",
       "2019-01-10  81.2005\n",
       "2019-01-11  81.3475\n",
       "2019-01-14  81.2195\n",
       "2019-01-15  81.2310\n",
       "2019-01-16  81.0055\n",
       "2019-01-17  80.9765\n",
       "2019-01-18  81.0875\n",
       "2019-01-21  80.9335\n",
       "2019-01-22  81.0460\n",
       "2019-01-23  81.0535\n",
       "2019-01-24  80.6560\n",
       "2019-01-25  80.6340\n",
       "2019-01-28  81.2320\n",
       "2019-01-29  81.3060\n",
       "2019-01-30  81.3510\n",
       "2019-01-31  81.6860"
      ]
     },
     "execution_count": 13,
     "metadata": {},
     "output_type": "execute_result"
    }
   ],
   "source": [
    "df.sort_index(inplace = True)\n",
    "df"
   ]
  },
  {
   "cell_type": "code",
   "execution_count": 14,
   "metadata": {},
   "outputs": [
    {
     "data": {
      "text/plain": [
       "<matplotlib.axes._subplots.AxesSubplot at 0x18efea1c788>"
      ]
     },
     "execution_count": 14,
     "metadata": {},
     "output_type": "execute_result"
    },
    {
     "data": {
      "image/png": "[encoded data removed]",
      "text/plain": [
       "<Figure size 432x288 with 1 Axes>"
      ]
     },
     "metadata": {
      "needs_background": "light"
     },
     "output_type": "display_data"
    }
   ],
   "source": [
    "# graph of INR exchange rate against EUR from 1 Jan 2019 to 31 Jan 2019 (T1)\n",
    "df.plot()"
   ]
  },
  {
   "cell_type": "code",
   "execution_count": 15,
   "metadata": {},
   "outputs": [
    {
     "data": {
      "text/plain": [
       "{'2019-01-09': {'INR': 80.6365, 'GBP': 0.89913},\n",
       " '2019-01-18': {'INR': 81.0875, 'GBP': 0.88125},\n",
       " '2019-01-23': {'INR': 81.0535, 'GBP': 0.87213},\n",
       " '2019-01-30': {'INR': 81.351, 'GBP': 0.87341},\n",
       " '2019-01-16': {'INR': 81.0055, 'GBP': 0.8859},\n",
       " '2019-01-24': {'INR': 80.656, 'GBP': 0.87085},\n",
       " '2019-01-10': {'INR': 81.2005, 'GBP': 0.90423},\n",
       " '2019-01-29': {'INR': 81.306, 'GBP': 0.86735},\n",
       " '2019-01-03': {'INR': 79.608, 'GBP': 0.90312},\n",
       " '2019-01-21': {'INR': 80.9335, 'GBP': 0.88303},\n",
       " '2019-01-28': {'INR': 81.232, 'GBP': 0.86888},\n",
       " '2019-01-31': {'INR': 81.686, 'GBP': 0.87578},\n",
       " '2019-01-15': {'INR': 81.231, 'GBP': 0.89025},\n",
       " '2019-01-11': {'INR': 81.3475, 'GBP': 0.90015},\n",
       " '2019-01-02': {'INR': 79.9855, 'GBP': 0.90165},\n",
       " '2019-01-14': {'INR': 81.2195, 'GBP': 0.89263},\n",
       " '2019-01-17': {'INR': 80.9765, 'GBP': 0.8826},\n",
       " '2019-01-22': {'INR': 81.046, 'GBP': 0.88},\n",
       " '2019-01-04': {'INR': 79.4315, 'GBP': 0.89988},\n",
       " '2019-01-07': {'INR': 79.6895, 'GBP': 0.8972},\n",
       " '2019-01-25': {'INR': 80.634, 'GBP': 0.8658},\n",
       " '2019-01-08': {'INR': 80.245, 'GBP': 0.89743}}"
      ]
     },
     "execution_count": 15,
     "metadata": {},
     "output_type": "execute_result"
    }
   ],
   "source": [
    "#[T-2] Plot the graph of INR and GBP exchange rate against EUR from 1 Jan 2019 to 31 Jan 2019.\n",
    "url='https://api.exchangeratesapi.io/history?start_at=2019-01-01&end_at=2019-01-31&symbols=INR,GBP&base=EUR'\n",
    "j=get_api_result(url)\n",
    "j['rates']"
   ]
  },
  {
   "cell_type": "code",
   "execution_count": 16,
   "metadata": {},
   "outputs": [
    {
     "data": {
      "text/html": [
       "<div>\n",
       "<style scoped>\n",
       "    .dataframe tbody tr th:only-of-type {\n",
       "        vertical-align: middle;\n",
       "    }\n",
       "\n",
       "    .dataframe tbody tr th {\n",
       "        vertical-align: top;\n",
       "    }\n",
       "\n",
       "    .dataframe thead th {\n",
       "        text-align: right;\n",
       "    }\n",
       "</style>\n",
       "<table border=\"1\" class=\"dataframe\">\n",
       "  <thead>\n",
       "    <tr style=\"text-align: right;\">\n",
       "      <th></th>\n",
       "      <th>INR</th>\n",
       "      <th>GBP</th>\n",
       "    </tr>\n",
       "  </thead>\n",
       "  <tbody>\n",
       "    <tr>\n",
       "      <th>2019-01-02</th>\n",
       "      <td>79.9855</td>\n",
       "      <td>0.90165</td>\n",
       "    </tr>\n",
       "    <tr>\n",
       "      <th>2019-01-03</th>\n",
       "      <td>79.6080</td>\n",
       "      <td>0.90312</td>\n",
       "    </tr>\n",
       "    <tr>\n",
       "      <th>2019-01-04</th>\n",
       "      <td>79.4315</td>\n",
       "      <td>0.89988</td>\n",
       "    </tr>\n",
       "    <tr>\n",
       "      <th>2019-01-07</th>\n",
       "      <td>79.6895</td>\n",
       "      <td>0.89720</td>\n",
       "    </tr>\n",
       "    <tr>\n",
       "      <th>2019-01-08</th>\n",
       "      <td>80.2450</td>\n",
       "      <td>0.89743</td>\n",
       "    </tr>\n",
       "    <tr>\n",
       "      <th>2019-01-09</th>\n",
       "      <td>80.6365</td>\n",
       "      <td>0.89913</td>\n",
       "    </tr>\n",
       "    <tr>\n",
       "      <th>2019-01-10</th>\n",
       "      <td>81.2005</td>\n",
       "      <td>0.90423</td>\n",
       "    </tr>\n",
       "    <tr>\n",
       "      <th>2019-01-11</th>\n",
       "      <td>81.3475</td>\n",
       "      <td>0.90015</td>\n",
       "    </tr>\n",
       "    <tr>\n",
       "      <th>2019-01-14</th>\n",
       "      <td>81.2195</td>\n",
       "      <td>0.89263</td>\n",
       "    </tr>\n",
       "    <tr>\n",
       "      <th>2019-01-15</th>\n",
       "      <td>81.2310</td>\n",
       "      <td>0.89025</td>\n",
       "    </tr>\n",
       "    <tr>\n",
       "      <th>2019-01-16</th>\n",
       "      <td>81.0055</td>\n",
       "      <td>0.88590</td>\n",
       "    </tr>\n",
       "    <tr>\n",
       "      <th>2019-01-17</th>\n",
       "      <td>80.9765</td>\n",
       "      <td>0.88260</td>\n",
       "    </tr>\n",
       "    <tr>\n",
       "      <th>2019-01-18</th>\n",
       "      <td>81.0875</td>\n",
       "      <td>0.88125</td>\n",
       "    </tr>\n",
       "    <tr>\n",
       "      <th>2019-01-21</th>\n",
       "      <td>80.9335</td>\n",
       "      <td>0.88303</td>\n",
       "    </tr>\n",
       "    <tr>\n",
       "      <th>2019-01-22</th>\n",
       "      <td>81.0460</td>\n",
       "      <td>0.88000</td>\n",
       "    </tr>\n",
       "    <tr>\n",
       "      <th>2019-01-23</th>\n",
       "      <td>81.0535</td>\n",
       "      <td>0.87213</td>\n",
       "    </tr>\n",
       "    <tr>\n",
       "      <th>2019-01-24</th>\n",
       "      <td>80.6560</td>\n",
       "      <td>0.87085</td>\n",
       "    </tr>\n",
       "    <tr>\n",
       "      <th>2019-01-25</th>\n",
       "      <td>80.6340</td>\n",
       "      <td>0.86580</td>\n",
       "    </tr>\n",
       "    <tr>\n",
       "      <th>2019-01-28</th>\n",
       "      <td>81.2320</td>\n",
       "      <td>0.86888</td>\n",
       "    </tr>\n",
       "    <tr>\n",
       "      <th>2019-01-29</th>\n",
       "      <td>81.3060</td>\n",
       "      <td>0.86735</td>\n",
       "    </tr>\n",
       "    <tr>\n",
       "      <th>2019-01-30</th>\n",
       "      <td>81.3510</td>\n",
       "      <td>0.87341</td>\n",
       "    </tr>\n",
       "    <tr>\n",
       "      <th>2019-01-31</th>\n",
       "      <td>81.6860</td>\n",
       "      <td>0.87578</td>\n",
       "    </tr>\n",
       "  </tbody>\n",
       "</table>\n",
       "</div>"
      ],
      "text/plain": [
       "                INR      GBP\n",
       "2019-01-02  79.9855  0.90165\n",
       "2019-01-03  79.6080  0.90312\n",
       "2019-01-04  79.4315  0.89988\n",
       "2019-01-07  79.6895  0.89720\n",
       "2019-01-08  80.2450  0.89743\n",
       "2019-01-09  80.6365  0.89913\n",
       "2019-01-10  81.2005  0.90423\n",
       "2019-01-11  81.3475  0.90015\n",
       "2019-01-14  81.2195  0.89263\n",
       "2019-01-15  81.2310  0.89025\n",
       "2019-01-16  81.0055  0.88590\n",
       "2019-01-17  80.9765  0.88260\n",
       "2019-01-18  81.0875  0.88125\n",
       "2019-01-21  80.9335  0.88303\n",
       "2019-01-22  81.0460  0.88000\n",
       "2019-01-23  81.0535  0.87213\n",
       "2019-01-24  80.6560  0.87085\n",
       "2019-01-25  80.6340  0.86580\n",
       "2019-01-28  81.2320  0.86888\n",
       "2019-01-29  81.3060  0.86735\n",
       "2019-01-30  81.3510  0.87341\n",
       "2019-01-31  81.6860  0.87578"
      ]
     },
     "execution_count": 16,
     "metadata": {},
     "output_type": "execute_result"
    }
   ],
   "source": [
    "df=pd.DataFrame(j['rates']).T\n",
    "df.sort_index(inplace = True)\n",
    "df"
   ]
  },
  {
   "cell_type": "code",
   "execution_count": 17,
   "metadata": {},
   "outputs": [
    {
     "data": {
      "text/plain": [
       "<matplotlib.axes._subplots.AxesSubplot at 0x18efeb1d808>"
      ]
     },
     "execution_count": 17,
     "metadata": {},
     "output_type": "execute_result"
    },
    {
     "data": {
      "image/png": "[encoded data removed]",
      "text/plain": [
       "<Figure size 432x288 with 1 Axes>"
      ]
     },
     "metadata": {
      "needs_background": "light"
     },
     "output_type": "display_data"
    }
   ],
   "source": [
    "# graph of INR and GBP exchange rate against EUR from 1 Jan 2019 to 31 Jan 2019\n",
    "df.plot()"
   ]
  },
  {
   "cell_type": "code",
   "execution_count": 18,
   "metadata": {},
   "outputs": [
    {
     "data": {
      "text/plain": [
       "{'CAD': 1.551,\n",
       " 'HKD': 8.8617,\n",
       " 'ISK': 160.2,\n",
       " 'PHP': 56.511,\n",
       " 'DKK': 7.4453,\n",
       " 'HUF': 353.72,\n",
       " 'CZK': 26.682,\n",
       " 'AUD': 1.636,\n",
       " 'RON': 4.8422,\n",
       " 'SEK': 10.333,\n",
       " 'IDR': 16793.45,\n",
       " 'INR': 85.67,\n",
       " 'BRL': 6.0839,\n",
       " 'RUB': 81.8409,\n",
       " 'HRK': 7.538,\n",
       " 'JPY': 122.53,\n",
       " 'THB': 36.238,\n",
       " 'CHF': 1.0753,\n",
       " 'SGD': 1.5887,\n",
       " 'PLN': 4.4827,\n",
       " 'BGN': 1.9558,\n",
       " 'TRY': 7.8413,\n",
       " 'CNY': 7.9975,\n",
       " 'NOK': 10.5995,\n",
       " 'NZD': 1.7463,\n",
       " 'ZAR': 19.0496,\n",
       " 'USD': 1.1428,\n",
       " 'MXN': 25.6132,\n",
       " 'ILS': 3.9253,\n",
       " 'GBP': 0.91078,\n",
       " 'KRW': 1376.55,\n",
       " 'MYR': 4.8723}"
      ]
     },
     "execution_count": 18,
     "metadata": {},
     "output_type": "execute_result"
    }
   ],
   "source": [
    "#[T-3] Plot the graph of INR and GBP exchange rate against EUR from 1 Jan 2019 to 31 Jan 2019 and also indicate the current rate for INR and GBP on the graph itself.\n",
    "# current rates\n",
    "url = 'https://api.exchangeratesapi.io/latest'\n",
    "j = get_api_result(url)\n",
    "j['rates']"
   ]
  },
  {
   "cell_type": "code",
   "execution_count": 19,
   "metadata": {},
   "outputs": [
    {
     "data": {
      "text/plain": [
       "(85.67, 0.91078)"
      ]
     },
     "execution_count": 19,
     "metadata": {},
     "output_type": "execute_result"
    }
   ],
   "source": [
    "#current rates of INR & GBP\n",
    "li = j['rates']['INR']\n",
    "lg = j['rates']['GBP']\n",
    "li,lg"
   ]
  },
  {
   "cell_type": "code",
   "execution_count": null,
   "metadata": {},
   "outputs": [],
   "source": []
  },
  {
   "cell_type": "code",
   "execution_count": 20,
   "metadata": {},
   "outputs": [
    {
     "data": {
      "text/plain": [
       "'INR,GBP'"
      ]
     },
     "execution_count": 20,
     "metadata": {},
     "output_type": "execute_result"
    }
   ],
   "source": [
    "currency = ['INR','GBP']\n",
    "','.join(currency)"
   ]
  },
  {
   "cell_type": "code",
   "execution_count": 31,
   "metadata": {},
   "outputs": [],
   "source": [
    "def get_exchange_rate(start_dt = None, end_dt = None, currency=['INR'], base_currency='EUR'):\n",
    "    if start_dt is None:\n",
    "        start_dt = (pd.Timestamp.now()-pd.DateOffset(days = 15)).strftime(\"%Y-%m-%d\")\n",
    "    if end_dt is None:\n",
    "        end_dt = pd.Timestamp.now().strftime(\"%Y-%m-%d\")\n",
    "    url=f'https://api.exchangeratesapi.io/history?start_at={start_dt}&end_at={end_dt}&symbols={\",\".join(currency)}&base={base_currency}'\n",
    "    print(url)\n",
    "    r=requests.get(url)\n",
    "    j=json.loads(r.text)\n",
    "    df=pd.DataFrame(j['rates']).T\n",
    "    df.sort_index(inplace = True)\n",
    "    df.plot()\n",
    "    return df\n",
    "    "
   ]
  },
  {
   "cell_type": "code",
   "execution_count": 32,
   "metadata": {
    "scrolled": true
   },
   "outputs": [
    {
     "name": "stdout",
     "output_type": "stream",
     "text": [
      "https://api.exchangeratesapi.io/history?start_at=2020-07-04&end_at=2020-07-19&symbols=INR&base=EUR\n"
     ]
    },
    {
     "data": {
      "text/html": [
       "<div>\n",
       "<style scoped>\n",
       "    .dataframe tbody tr th:only-of-type {\n",
       "        vertical-align: middle;\n",
       "    }\n",
       "\n",
       "    .dataframe tbody tr th {\n",
       "        vertical-align: top;\n",
       "    }\n",
       "\n",
       "    .dataframe thead th {\n",
       "        text-align: right;\n",
       "    }\n",
       "</style>\n",
       "<table border=\"1\" class=\"dataframe\">\n",
       "  <thead>\n",
       "    <tr style=\"text-align: right;\">\n",
       "      <th></th>\n",
       "      <th>INR</th>\n",
       "    </tr>\n",
       "  </thead>\n",
       "  <tbody>\n",
       "    <tr>\n",
       "      <th>2020-07-06</th>\n",
       "      <td>84.4535</td>\n",
       "    </tr>\n",
       "    <tr>\n",
       "      <th>2020-07-07</th>\n",
       "      <td>84.4645</td>\n",
       "    </tr>\n",
       "    <tr>\n",
       "      <th>2020-07-08</th>\n",
       "      <td>84.6455</td>\n",
       "    </tr>\n",
       "    <tr>\n",
       "      <th>2020-07-09</th>\n",
       "      <td>85.0455</td>\n",
       "    </tr>\n",
       "    <tr>\n",
       "      <th>2020-07-10</th>\n",
       "      <td>84.8410</td>\n",
       "    </tr>\n",
       "    <tr>\n",
       "      <th>2020-07-13</th>\n",
       "      <td>85.2160</td>\n",
       "    </tr>\n",
       "    <tr>\n",
       "      <th>2020-07-14</th>\n",
       "      <td>85.7725</td>\n",
       "    </tr>\n",
       "    <tr>\n",
       "      <th>2020-07-15</th>\n",
       "      <td>85.9710</td>\n",
       "    </tr>\n",
       "    <tr>\n",
       "      <th>2020-07-16</th>\n",
       "      <td>85.8555</td>\n",
       "    </tr>\n",
       "    <tr>\n",
       "      <th>2020-07-17</th>\n",
       "      <td>85.6700</td>\n",
       "    </tr>\n",
       "  </tbody>\n",
       "</table>\n",
       "</div>"
      ],
      "text/plain": [
       "                INR\n",
       "2020-07-06  84.4535\n",
       "2020-07-07  84.4645\n",
       "2020-07-08  84.6455\n",
       "2020-07-09  85.0455\n",
       "2020-07-10  84.8410\n",
       "2020-07-13  85.2160\n",
       "2020-07-14  85.7725\n",
       "2020-07-15  85.9710\n",
       "2020-07-16  85.8555\n",
       "2020-07-17  85.6700"
      ]
     },
     "execution_count": 32,
     "metadata": {},
     "output_type": "execute_result"
    },
    {
     "data": {
      "image/png": "[encoded data removed]",
      "text/plain": [
       "<Figure size 432x288 with 1 Axes>"
      ]
     },
     "metadata": {
      "needs_background": "light"
     },
     "output_type": "display_data"
    }
   ],
   "source": [
    "get_exchange_rate()"
   ]
  },
  {
   "cell_type": "code",
   "execution_count": 34,
   "metadata": {},
   "outputs": [
    {
     "name": "stdout",
     "output_type": "stream",
     "text": [
      "https://api.exchangeratesapi.io/history?start_at=2019-01-01&end_at=2019-01-31&symbols=INR,JPY&base=EUR\n"
     ]
    },
    {
     "data": {
      "text/html": [
       "<div>\n",
       "<style scoped>\n",
       "    .dataframe tbody tr th:only-of-type {\n",
       "        vertical-align: middle;\n",
       "    }\n",
       "\n",
       "    .dataframe tbody tr th {\n",
       "        vertical-align: top;\n",
       "    }\n",
       "\n",
       "    .dataframe thead th {\n",
       "        text-align: right;\n",
       "    }\n",
       "</style>\n",
       "<table border=\"1\" class=\"dataframe\">\n",
       "  <thead>\n",
       "    <tr style=\"text-align: right;\">\n",
       "      <th></th>\n",
       "      <th>INR</th>\n",
       "      <th>JPY</th>\n",
       "    </tr>\n",
       "  </thead>\n",
       "  <tbody>\n",
       "    <tr>\n",
       "      <th>2019-01-02</th>\n",
       "      <td>79.9855</td>\n",
       "      <td>124.28</td>\n",
       "    </tr>\n",
       "    <tr>\n",
       "      <th>2019-01-03</th>\n",
       "      <td>79.6080</td>\n",
       "      <td>122.21</td>\n",
       "    </tr>\n",
       "    <tr>\n",
       "      <th>2019-01-04</th>\n",
       "      <td>79.4315</td>\n",
       "      <td>123.20</td>\n",
       "    </tr>\n",
       "    <tr>\n",
       "      <th>2019-01-07</th>\n",
       "      <td>79.6895</td>\n",
       "      <td>123.90</td>\n",
       "    </tr>\n",
       "    <tr>\n",
       "      <th>2019-01-08</th>\n",
       "      <td>80.2450</td>\n",
       "      <td>124.46</td>\n",
       "    </tr>\n",
       "    <tr>\n",
       "      <th>2019-01-09</th>\n",
       "      <td>80.6365</td>\n",
       "      <td>124.70</td>\n",
       "    </tr>\n",
       "    <tr>\n",
       "      <th>2019-01-10</th>\n",
       "      <td>81.2005</td>\n",
       "      <td>124.70</td>\n",
       "    </tr>\n",
       "    <tr>\n",
       "      <th>2019-01-11</th>\n",
       "      <td>81.3475</td>\n",
       "      <td>124.91</td>\n",
       "    </tr>\n",
       "    <tr>\n",
       "      <th>2019-01-14</th>\n",
       "      <td>81.2195</td>\n",
       "      <td>123.93</td>\n",
       "    </tr>\n",
       "    <tr>\n",
       "      <th>2019-01-15</th>\n",
       "      <td>81.2310</td>\n",
       "      <td>124.02</td>\n",
       "    </tr>\n",
       "    <tr>\n",
       "      <th>2019-01-16</th>\n",
       "      <td>81.0055</td>\n",
       "      <td>123.91</td>\n",
       "    </tr>\n",
       "    <tr>\n",
       "      <th>2019-01-17</th>\n",
       "      <td>80.9765</td>\n",
       "      <td>123.95</td>\n",
       "    </tr>\n",
       "    <tr>\n",
       "      <th>2019-01-18</th>\n",
       "      <td>81.0875</td>\n",
       "      <td>124.78</td>\n",
       "    </tr>\n",
       "    <tr>\n",
       "      <th>2019-01-21</th>\n",
       "      <td>80.9335</td>\n",
       "      <td>124.60</td>\n",
       "    </tr>\n",
       "    <tr>\n",
       "      <th>2019-01-22</th>\n",
       "      <td>81.0460</td>\n",
       "      <td>124.25</td>\n",
       "    </tr>\n",
       "    <tr>\n",
       "      <th>2019-01-23</th>\n",
       "      <td>81.0535</td>\n",
       "      <td>124.70</td>\n",
       "    </tr>\n",
       "    <tr>\n",
       "      <th>2019-01-24</th>\n",
       "      <td>80.6560</td>\n",
       "      <td>124.43</td>\n",
       "    </tr>\n",
       "    <tr>\n",
       "      <th>2019-01-25</th>\n",
       "      <td>80.6340</td>\n",
       "      <td>124.72</td>\n",
       "    </tr>\n",
       "    <tr>\n",
       "      <th>2019-01-28</th>\n",
       "      <td>81.2320</td>\n",
       "      <td>124.94</td>\n",
       "    </tr>\n",
       "    <tr>\n",
       "      <th>2019-01-29</th>\n",
       "      <td>81.3060</td>\n",
       "      <td>125.03</td>\n",
       "    </tr>\n",
       "    <tr>\n",
       "      <th>2019-01-30</th>\n",
       "      <td>81.3510</td>\n",
       "      <td>125.08</td>\n",
       "    </tr>\n",
       "    <tr>\n",
       "      <th>2019-01-31</th>\n",
       "      <td>81.6860</td>\n",
       "      <td>124.81</td>\n",
       "    </tr>\n",
       "  </tbody>\n",
       "</table>\n",
       "</div>"
      ],
      "text/plain": [
       "                INR     JPY\n",
       "2019-01-02  79.9855  124.28\n",
       "2019-01-03  79.6080  122.21\n",
       "2019-01-04  79.4315  123.20\n",
       "2019-01-07  79.6895  123.90\n",
       "2019-01-08  80.2450  124.46\n",
       "2019-01-09  80.6365  124.70\n",
       "2019-01-10  81.2005  124.70\n",
       "2019-01-11  81.3475  124.91\n",
       "2019-01-14  81.2195  123.93\n",
       "2019-01-15  81.2310  124.02\n",
       "2019-01-16  81.0055  123.91\n",
       "2019-01-17  80.9765  123.95\n",
       "2019-01-18  81.0875  124.78\n",
       "2019-01-21  80.9335  124.60\n",
       "2019-01-22  81.0460  124.25\n",
       "2019-01-23  81.0535  124.70\n",
       "2019-01-24  80.6560  124.43\n",
       "2019-01-25  80.6340  124.72\n",
       "2019-01-28  81.2320  124.94\n",
       "2019-01-29  81.3060  125.03\n",
       "2019-01-30  81.3510  125.08\n",
       "2019-01-31  81.6860  124.81"
      ]
     },
     "execution_count": 34,
     "metadata": {},
     "output_type": "execute_result"
    },
    {
     "data": {
      "image/png": "[encoded data removed]",
      "text/plain": [
       "<Figure size 432x288 with 1 Axes>"
      ]
     },
     "metadata": {
      "needs_background": "light"
     },
     "output_type": "display_data"
    }
   ],
   "source": [
    "get_exchange_rate('2019-01-01','2019-01-31',['INR','JPY'])"
   ]
  },
  {
   "cell_type": "code",
   "execution_count": null,
   "metadata": {},
   "outputs": [],
   "source": []
  }
 ],
 "metadata": {
  "kernelspec": {
   "display_name": "Python 3",
   "language": "python",
   "name": "python3"
  },
  "language_info": {
   "codemirror_mode": {
    "name": "ipython",
    "version": 3
   },
   "file_extension": ".py",
   "mimetype": "text/x-python",
   "name": "python",
   "nbconvert_exporter": "python",
   "pygments_lexer": "ipython3",
   "version": "3.7.6"
  }
 },
 "nbformat": 4,
 "nbformat_minor": 4
}
